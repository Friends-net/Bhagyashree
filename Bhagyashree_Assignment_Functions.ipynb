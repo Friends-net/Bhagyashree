{
 "cells": [
  {
   "cell_type": "code",
   "execution_count": 1,
   "id": "842f1ec5",
   "metadata": {},
   "outputs": [],
   "source": [
    "# Define a function calls addNumber(x, y) that takes in two number and returns the sum of the two numbers."
   ]
  },
  {
   "cell_type": "code",
   "execution_count": 8,
   "id": "7461560a",
   "metadata": {},
   "outputs": [],
   "source": [
    "def addNumber(x,y):\n",
    "    sum=x+y\n",
    "    print(sum)"
   ]
  },
  {
   "cell_type": "code",
   "execution_count": 9,
   "id": "ea99952c",
   "metadata": {},
   "outputs": [
    {
     "name": "stdout",
     "output_type": "stream",
     "text": [
      "11\n"
     ]
    }
   ],
   "source": [
    "addNumber(5,6)"
   ]
  },
  {
   "cell_type": "code",
   "execution_count": 10,
   "id": "0876151f",
   "metadata": {},
   "outputs": [],
   "source": [
    "# Define a function calls subtractNumber(x, y) that takes in two numbers and returns the difference of the two numbers."
   ]
  },
  {
   "cell_type": "code",
   "execution_count": 11,
   "id": "2680476d",
   "metadata": {},
   "outputs": [],
   "source": [
    "def substractNumber(x,y):\n",
    "    sub=x-y\n",
    "    print(sub)"
   ]
  },
  {
   "cell_type": "code",
   "execution_count": 12,
   "id": "a413b45e",
   "metadata": {},
   "outputs": [
    {
     "name": "stdout",
     "output_type": "stream",
     "text": [
      "1\n"
     ]
    }
   ],
   "source": [
    "substractNumber(7,6)"
   ]
  },
  {
   "cell_type": "code",
   "execution_count": 13,
   "id": "b705db26",
   "metadata": {},
   "outputs": [],
   "source": [
    "# Write a function getBiggerNumber(x, y) that takes in two numbers as arguments and returns the bigger number."
   ]
  },
  {
   "cell_type": "code",
   "execution_count": 16,
   "id": "2634028c",
   "metadata": {},
   "outputs": [],
   "source": [
    "def getBiggerNumber(x,y):\n",
    "    if x > y:\n",
    "        print(x)\n",
    "    elif y > x:\n",
    "        print(y)\n",
    "    else:\n",
    "        print(f\"{x} and {y} are equal\")"
   ]
  },
  {
   "cell_type": "code",
   "execution_count": 19,
   "id": "5d2b101a",
   "metadata": {},
   "outputs": [
    {
     "name": "stdout",
     "output_type": "stream",
     "text": [
      "9 and 9 are equal\n"
     ]
    }
   ],
   "source": [
    "getBiggerNumber(9,9)"
   ]
  },
  {
   "cell_type": "code",
   "execution_count": 20,
   "id": "f1f6e10f",
   "metadata": {},
   "outputs": [],
   "source": [
    "# Python provides many built-in modules with many useful functions. \n",
    "# One such module is the math module. The math module provides many useful functions such as sqrt(x), pow(x, y), ceil(x), floor(x) etc. \n",
    "# You will need to do a \"import math\" before you are allowed to use the functions within the math module.\n",
    "\n",
    "\n",
    "# Calculate the square root of 16 and stores it in the variable a\n",
    "\n",
    "\n",
    "# Calculate 3 to the power of 5 and stores it in the variable b\n",
    "\n",
    "\n",
    "# Calculate area of circle with radius = 3.0 by making use of the math.pi constant and store it in the variable c\n",
    "\n"
   ]
  },
  {
   "cell_type": "code",
   "execution_count": 32,
   "id": "1db633f9",
   "metadata": {},
   "outputs": [],
   "source": [
    "import math as m\n",
    "def getsqrt(x):\n",
    "    z=m.sqrt(x)\n",
    "    print(f\"The square root of {x} is {z}\")\n",
    "    "
   ]
  },
  {
   "cell_type": "code",
   "execution_count": 33,
   "id": "ae1bc3a8",
   "metadata": {},
   "outputs": [
    {
     "name": "stdout",
     "output_type": "stream",
     "text": [
      "The square root of 16 is 4.0\n"
     ]
    }
   ],
   "source": [
    "getsqrt(16)"
   ]
  },
  {
   "cell_type": "code",
   "execution_count": 28,
   "id": "57c9dfbd",
   "metadata": {},
   "outputs": [
    {
     "data": {
      "text/plain": [
       "4"
      ]
     },
     "execution_count": 28,
     "metadata": {},
     "output_type": "execute_result"
    }
   ],
   "source": [
    "int(4.0)"
   ]
  },
  {
   "cell_type": "code",
   "execution_count": 34,
   "id": "1e6dd16e",
   "metadata": {},
   "outputs": [
    {
     "data": {
      "text/plain": [
       "243"
      ]
     },
     "execution_count": 34,
     "metadata": {},
     "output_type": "execute_result"
    }
   ],
   "source": [
    "# Calculate 3 to the power of 5 and stores it in the variable b\n",
    "pow(3,5)"
   ]
  },
  {
   "cell_type": "code",
   "execution_count": 39,
   "id": "15fd5424",
   "metadata": {},
   "outputs": [],
   "source": [
    "# Calculate area of circle with radius = 3.0 by making use of the math.pi constant and store it in the variable c\n",
    "import math as m\n",
    "def areaofCircle(radius):\n",
    "    area = m.pi * radius * radius\n",
    "    print(f\"Area of the circle with radius {radius} is {area}\")"
   ]
  },
  {
   "cell_type": "code",
   "execution_count": 43,
   "id": "1e3b44e9",
   "metadata": {},
   "outputs": [
    {
     "name": "stdout",
     "output_type": "stream",
     "text": [
      "Area of the circle with radius 3.0 is 28.274333882308138\n"
     ]
    }
   ],
   "source": [
    "areaofCircle(3.0)"
   ]
  },
  {
   "cell_type": "code",
   "execution_count": 57,
   "id": "930e530d",
   "metadata": {},
   "outputs": [],
   "source": [
    "# Write a function to convert temperature from Celsius to Fahrenheit scale.\n",
    "# oC to oF Conversion: Multipy by 9, then divide by 5, then add 32.\n",
    "\n",
    "# Note: Return a string of 2 decimal places.\n",
    "# In - Cel2Fah(28.0)\n",
    "# Out - '82.40'\n",
    "# In - Cel2Fah(0.00)\n",
    "# Out - '32.00'\n",
    "\n",
    "def Cel2Fah(celsius):\n",
    "    fahrenheit = ((celsius * 9)/5)+32\n",
    "    print(f\"Fahrenheit value for {celsius} is {fahrenheit:.2f}\")\n",
    "    print(\"Fahrenheit value for {} is {:.2f}\".format(celsius,fahrenheit))"
   ]
  },
  {
   "cell_type": "code",
   "execution_count": 58,
   "id": "d847bf86",
   "metadata": {},
   "outputs": [
    {
     "name": "stdout",
     "output_type": "stream",
     "text": [
      "Fahrenheit value for 37 is 98.60\n",
      "Fahrenheit value for 37 is 98.60\n"
     ]
    }
   ],
   "source": [
    "Cel2Fah(37)"
   ]
  },
  {
   "cell_type": "code",
   "execution_count": 61,
   "id": "f897aeaa",
   "metadata": {},
   "outputs": [],
   "source": [
    "\n",
    "\n",
    "# Write a function to compute the BMI of a person.\n",
    "#     BMI = weight(kg)  /  ( height(m)*height(m) )\n",
    "\n",
    "# Note: Return a string of 1 decimal place.\n",
    "# In - BMI(63, 1.7)\n",
    "# Out - '21.8'\n",
    "# In - BMI(110, 2)\n",
    "# Out - '27.5'\n",
    "\n",
    "def BMI(weight, height):\n",
    "    BMI = weight / (height * height)\n",
    "    print(f\"BMI of a person with weight : {weight} kg and height {height} m is {BMI:.1f}\")"
   ]
  },
  {
   "cell_type": "code",
   "execution_count": 62,
   "id": "526ee439",
   "metadata": {},
   "outputs": [
    {
     "name": "stdout",
     "output_type": "stream",
     "text": [
      "BMI of a person with weight : 63 kg and height 1.7 m is 21.8\n"
     ]
    }
   ],
   "source": [
    "BMI(63,1.7)"
   ]
  },
  {
   "cell_type": "code",
   "execution_count": 63,
   "id": "abcac5a0",
   "metadata": {},
   "outputs": [
    {
     "name": "stdout",
     "output_type": "stream",
     "text": [
      "BMI of a person with weight : 110 kg and height 2 m is 27.5\n"
     ]
    }
   ],
   "source": [
    "BMI(110,2)"
   ]
  },
  {
   "cell_type": "code",
   "execution_count": 68,
   "id": "8bff1d0a",
   "metadata": {},
   "outputs": [],
   "source": [
    "# Write a function percent(value, total) that takes in two numbers as arguments, and returns the \n",
    "# percentage value as an integer.\n",
    "\n",
    "# In - percent(46, 90)\n",
    "# Out - 51\n",
    "# In - percent(51, 51)\n",
    "# Out - 100\n",
    "# In - percent(63, 12)\n",
    "# Out - 525\n",
    "\n",
    "def percent(value, total):\n",
    "    p = (value/total)*100\n",
    "    print(f\"The percent value of value {value} out of total  {total} is {int(p)}\" )\n",
    "    "
   ]
  },
  {
   "cell_type": "code",
   "execution_count": 69,
   "id": "fabb6ff7",
   "metadata": {},
   "outputs": [
    {
     "name": "stdout",
     "output_type": "stream",
     "text": [
      "The percent value of value 46 out of total  90 is 51\n"
     ]
    }
   ],
   "source": [
    "percent(46,90)"
   ]
  },
  {
   "cell_type": "code",
   "execution_count": 70,
   "id": "c6aa70c0",
   "metadata": {},
   "outputs": [
    {
     "name": "stdout",
     "output_type": "stream",
     "text": [
      "The percent value of value 51 out of total  51 is 100\n"
     ]
    }
   ],
   "source": [
    "percent(51,51)"
   ]
  },
  {
   "cell_type": "code",
   "execution_count": 71,
   "id": "7ff1b084",
   "metadata": {},
   "outputs": [
    {
     "name": "stdout",
     "output_type": "stream",
     "text": [
      "The percent value of value 63 out of total  12 is 525\n"
     ]
    }
   ],
   "source": [
    "percent(63,12)"
   ]
  },
  {
   "cell_type": "code",
   "execution_count": 72,
   "id": "eb2108db",
   "metadata": {},
   "outputs": [],
   "source": [
    "# Write a function to compute the hypotenuse given sides a and b of the triangle.\n",
    "# Hint: You can use math.sqrt(x) to compute the square root of x.\n",
    "# In - hypotenuse(3, 4)\n",
    "# Out - 5\n",
    "# In - hypotenuse(5, 12)\n",
    "# Out - 13\n",
    "import math as m\n",
    "def hypotenuse(a,b):\n",
    "    hyp = m.sqrt((a*a)+(b*b))\n",
    "    print(f\"The hypotenuse of the triangle with sides {a} and {b} is {hyp}\")\n",
    "    "
   ]
  },
  {
   "cell_type": "code",
   "execution_count": 74,
   "id": "389fdaab",
   "metadata": {},
   "outputs": [
    {
     "name": "stdout",
     "output_type": "stream",
     "text": [
      "The hypotenuse of the triangle with sides 3 and 4 is 5.0\n"
     ]
    }
   ],
   "source": [
    "hypotenuse(3,4)"
   ]
  },
  {
   "cell_type": "code",
   "execution_count": 80,
   "id": "c51c4e2c",
   "metadata": {},
   "outputs": [
    {
     "name": "stdout",
     "output_type": "stream",
     "text": [
      "The hypotenuse of the triangle with sides 5 and 12 is 13.0\n",
      "1\n",
      "3\n",
      "6\n"
     ]
    }
   ],
   "source": [
    "hypotenuse(5,12)\n",
    "l = [1,23,456]\n",
    "for i in range(0,len(l)):\n",
    "    print(l[i]%10)"
   ]
  },
  {
   "cell_type": "code",
   "execution_count": 91,
   "id": "6857c472",
   "metadata": {},
   "outputs": [],
   "source": [
    "# Write a function getSumOfLastDigits() that takes in a list of positive numbers and returns the sum of all the last digits in the list.\n",
    "# getSumOfLastDigits([2, 3, 4])\n",
    "# 9\n",
    "# getSumOfLastDigits([1, 23, 456])\n",
    "# 10\n",
    "\n",
    "def getSumofLastDigits(listofNo):\n",
    "    sum =0\n",
    "    for i in range(0,len(listofNo)):\n",
    "        sum = sum + l[i]%10\n",
    "    print(sum)\n",
    "        \n",
    "    "
   ]
  },
  {
   "cell_type": "code",
   "execution_count": 92,
   "id": "a2c9fdc4",
   "metadata": {},
   "outputs": [
    {
     "name": "stdout",
     "output_type": "stream",
     "text": [
      "10\n"
     ]
    }
   ],
   "source": [
    "getSumofLastDigits([1,23,456])"
   ]
  },
  {
   "cell_type": "code",
   "execution_count": 99,
   "id": "b6e5d07f",
   "metadata": {},
   "outputs": [],
   "source": [
    "# Write a function that uses a default value.\n",
    "# In - introduce('Lim', 20)\n",
    "# Out - 'My name is Lim. I am 20 years old.'\n",
    "# In - introduce('Ahmad')\n",
    "# Out - 'My name is Ahmad. My age is secret.'\n",
    "\n",
    "def useDefaultValue1(name,age=20):\n",
    "    print(f\"My name is {name}.I am {age} years old\")\n",
    "def useDefaultValue2(name,age='secret'):\n",
    "    print(f\"My name is {name}.I am {age} years old\")"
   ]
  },
  {
   "cell_type": "code",
   "execution_count": 100,
   "id": "5c8c84a4",
   "metadata": {},
   "outputs": [
    {
     "name": "stdout",
     "output_type": "stream",
     "text": [
      "My name is Lim.I am 25 years old\n"
     ]
    }
   ],
   "source": [
    "useDefaultValue1('Lim',25)"
   ]
  },
  {
   "cell_type": "code",
   "execution_count": 101,
   "id": "35927c88",
   "metadata": {},
   "outputs": [
    {
     "name": "stdout",
     "output_type": "stream",
     "text": [
      "My name is Lim.I am secret years old\n"
     ]
    }
   ],
   "source": [
    "useDefaultValue2('Lim')"
   ]
  },
  {
   "cell_type": "code",
   "execution_count": 125,
   "id": "e5c2dac3",
   "metadata": {},
   "outputs": [],
   "source": [
    "# Write a function isEquilateral(x, y, z) that accepts the 3 sides of a triangle as arguments. \n",
    "# The program should return True if it is an equilateral triangle.\n",
    "\n",
    "# In - isEquilateral(2, 4, 3)\n",
    "# False - False\n",
    "# In - isEquilateral(3, 3, 3)\n",
    "# Out - True\n",
    "# In - isEquilateral(-3, -3, -3)\n",
    "# Out - False\n",
    "\n",
    "\n",
    "def isEquilateral(x,y,z):\n",
    "    if ((x==y) and (y==z)):\n",
    "        print (True)\n",
    "    else :\n",
    "        print (False)"
   ]
  },
  {
   "cell_type": "code",
   "execution_count": 126,
   "id": "50204d30",
   "metadata": {},
   "outputs": [
    {
     "name": "stdout",
     "output_type": "stream",
     "text": [
      "False\n"
     ]
    }
   ],
   "source": [
    "isEquilateral(2,4,3)"
   ]
  },
  {
   "cell_type": "code",
   "execution_count": 127,
   "id": "8603b8ac",
   "metadata": {},
   "outputs": [
    {
     "name": "stdout",
     "output_type": "stream",
     "text": [
      "True\n"
     ]
    }
   ],
   "source": [
    "isEquilateral(-3,-3,-3)"
   ]
  },
  {
   "cell_type": "code",
   "execution_count": 128,
   "id": "3baaafd3",
   "metadata": {},
   "outputs": [],
   "source": [
    "# For a quadratic equation in the form of ax2+bx+c, the discriminant, D is b2-4ac. Write a function to compute the discriminant, D.\n",
    "# In - quadratic(1, 2, 3)\n",
    "# Out - 'The discriminant is -8.'\n",
    "# In - quadratic(1, 3, 2)\n",
    "# Out - 'The discriminant is 1.'\n",
    "# In - quadratic(1, 4, 4)\n",
    "# Out - 'The discriminant is 0.'\n",
    "\n",
    "def quadratic(a,b,c):\n",
    "    D = b*b - 4*a*c\n",
    "    print(D)"
   ]
  },
  {
   "cell_type": "code",
   "execution_count": 129,
   "id": "4d50c407",
   "metadata": {},
   "outputs": [
    {
     "name": "stdout",
     "output_type": "stream",
     "text": [
      "-8\n"
     ]
    }
   ],
   "source": [
    "quadratic(1, 2, 3)"
   ]
  },
  {
   "cell_type": "code",
   "execution_count": 140,
   "id": "e90425c3",
   "metadata": {},
   "outputs": [],
   "source": [
    "# Define a function calls addFirstAndLast(x) that takes in a list of numbers and returns the sum of the first and last numbers.\n",
    "# In - addFirstAndLast([])\n",
    "# Out - 0\n",
    "# In - addFirstAndLast([2, 7, 3])\n",
    "# Out - 5\n",
    "# In - addFirstAndLast([10])\n",
    "# Out - 10\n",
    "\n",
    "def addFirstAndLast(l):\n",
    "    sum = 0\n",
    "    if len(l) >1:\n",
    "        first = l[0]\n",
    "        last = l[-1]\n",
    "        sum = first + last\n",
    "        print (f\"The sum of {first} and {last} is {sum}\")\n",
    "    \n",
    "    elif len(l) == 1:\n",
    "        sum = l[0]\n",
    "        print (f\"{sum}\")\n",
    "        \n",
    "    else :\n",
    "        sum = 0\n",
    "        print(sum)"
   ]
  },
  {
   "cell_type": "code",
   "execution_count": 141,
   "id": "530cff56",
   "metadata": {},
   "outputs": [
    {
     "name": "stdout",
     "output_type": "stream",
     "text": [
      "The sum of 2 and 3 is 5\n"
     ]
    }
   ],
   "source": [
    "addFirstAndLast([2, 7, 3])"
   ]
  },
  {
   "cell_type": "code",
   "execution_count": 142,
   "id": "adf294fa",
   "metadata": {},
   "outputs": [
    {
     "name": "stdout",
     "output_type": "stream",
     "text": [
      "10\n"
     ]
    }
   ],
   "source": [
    "addFirstAndLast([10])"
   ]
  },
  {
   "cell_type": "code",
   "execution_count": 143,
   "id": "b75adb13",
   "metadata": {},
   "outputs": [
    {
     "name": "stdout",
     "output_type": "stream",
     "text": [
      "0\n"
     ]
    }
   ],
   "source": [
    "addFirstAndLast([])"
   ]
  },
  {
   "cell_type": "code",
   "execution_count": 144,
   "id": "2484246f",
   "metadata": {},
   "outputs": [
    {
     "data": {
      "text/plain": [
       "True"
      ]
     },
     "execution_count": 144,
     "metadata": {},
     "output_type": "execute_result"
    }
   ],
   "source": [
    "# Complete the 'lambda' expression so that it returns True if the argument is an even number, and False otherwise.\n",
    "\n",
    "(lambda num : True if num%2 == 0 else False)(6)"
   ]
  },
  {
   "cell_type": "code",
   "execution_count": 145,
   "id": "7c555ba3",
   "metadata": {},
   "outputs": [],
   "source": [
    "t = lambda x : True if x%2 == 0 else False"
   ]
  },
  {
   "cell_type": "code",
   "execution_count": 146,
   "id": "d299d7ce",
   "metadata": {},
   "outputs": [
    {
     "data": {
      "text/plain": [
       "True"
      ]
     },
     "execution_count": 146,
     "metadata": {},
     "output_type": "execute_result"
    }
   ],
   "source": [
    "t(6)"
   ]
  },
  {
   "cell_type": "code",
   "execution_count": 153,
   "id": "7810ee36",
   "metadata": {},
   "outputs": [
    {
     "data": {
      "text/plain": [
       "'A function that computes and returns the final score.\\nfgbtbvcfc'"
      ]
     },
     "execution_count": 153,
     "metadata": {},
     "output_type": "execute_result"
    }
   ],
   "source": [
    "# getScore.__doc__\n",
    "# 'A function that computes and returns the final score.'\n",
    "\n",
    "def getScore():\n",
    "  '''A function that computes and returns the final score.\n",
    "fgbtbvcfc'''\n",
    "  \n",
    "getScore.__doc__"
   ]
  },
  {
   "cell_type": "code",
   "execution_count": 154,
   "id": "ebf3ddf5",
   "metadata": {},
   "outputs": [
    {
     "name": "stdout",
     "output_type": "stream",
     "text": [
      "25\n"
     ]
    }
   ],
   "source": [
    "# In Python, it is possible to pass a function as a argument to another function. \n",
    "# Write a function useFunction(func, num) that takes in a function and a number as arguments. \n",
    "# The useFunction should produce the output shown in the examples given below.\n",
    "\n",
    "# def addOne(x):\n",
    "#   return x + 1\n",
    "# useFunction(addOne, 4)\n",
    "# 25\n",
    "# useFunction(addOne, 9)\n",
    "# 100\n",
    "# useFunction(addOne, 0)\n",
    "# 1\n",
    "\n",
    "\n",
    "def addOne(x):\n",
    "  return x + 1\n",
    "\n",
    "def useFunction(addOne, n):\n",
    "  print(addOne(n)**2)\n",
    "\n",
    "useFunction(addOne, 4)"
   ]
  },
  {
   "cell_type": "code",
   "execution_count": 155,
   "id": "d90839b4",
   "metadata": {},
   "outputs": [
    {
     "name": "stdout",
     "output_type": "stream",
     "text": [
      "\\t\n"
     ]
    }
   ],
   "source": [
    "print('\\\\t')"
   ]
  },
  {
   "cell_type": "code",
   "execution_count": null,
   "id": "620fe1b3",
   "metadata": {},
   "outputs": [],
   "source": []
  }
 ],
 "metadata": {
  "kernelspec": {
   "display_name": "Python 3",
   "language": "python",
   "name": "python3"
  },
  "language_info": {
   "codemirror_mode": {
    "name": "ipython",
    "version": 3
   },
   "file_extension": ".py",
   "mimetype": "text/x-python",
   "name": "python",
   "nbconvert_exporter": "python",
   "pygments_lexer": "ipython3",
   "version": "3.8.8"
  }
 },
 "nbformat": 4,
 "nbformat_minor": 5
}
