{
 "cells": [
  {
   "cell_type": "code",
   "execution_count": 1,
   "id": "7183dfe2",
   "metadata": {},
   "outputs": [
    {
     "name": "stdout",
     "output_type": "stream",
     "text": [
      "Enter items:1,23,45,67\n"
     ]
    }
   ],
   "source": [
    "a = input(\"Enter items:\")"
   ]
  },
  {
   "cell_type": "code",
   "execution_count": 2,
   "id": "f18c4f5f",
   "metadata": {},
   "outputs": [
    {
     "name": "stdout",
     "output_type": "stream",
     "text": [
      "1,23,45,67\n"
     ]
    }
   ],
   "source": [
    "print(a)"
   ]
  },
  {
   "cell_type": "code",
   "execution_count": 6,
   "id": "c6890e49",
   "metadata": {},
   "outputs": [],
   "source": [
    "b= a.split(',')"
   ]
  },
  {
   "cell_type": "code",
   "execution_count": 7,
   "id": "5a979d54",
   "metadata": {},
   "outputs": [],
   "source": [
    "ls = [int(x) for x in b ]"
   ]
  },
  {
   "cell_type": "code",
   "execution_count": 8,
   "id": "72b51be7",
   "metadata": {},
   "outputs": [
    {
     "name": "stdout",
     "output_type": "stream",
     "text": [
      "[1, 23, 45, 67]\n"
     ]
    }
   ],
   "source": [
    "print(ls)"
   ]
  },
  {
   "cell_type": "code",
   "execution_count": 10,
   "id": "efe8ec9f",
   "metadata": {},
   "outputs": [
    {
     "name": "stdout",
     "output_type": "stream",
     "text": [
      "{'email': 'tom_latham019@gmail.com', 'Phone': 1987654321, 'City': 'California'}\n"
     ]
    }
   ],
   "source": [
    "# Initialize a dictionary \"emp_info\" with below details\n",
    "# In - emp_info['Tom']\n",
    "# Out - {'email':'tom_latham019@gmail.com', 'Phone': +1987654321, 'City': 'California'}\n",
    "\n",
    "# In - emp_info['Kathy']\n",
    "# Out - {'email':'kathy_abram897@gmail.com', 'Phone': +1887654321, 'City': 'New York'}\n",
    "\n",
    "emp_info = {}\n",
    "emp_info['Tom'] = {'email':'tom_latham019@gmail.com', 'Phone': +1987654321, 'City': 'California'}\n",
    "print (emp_info['Tom'])"
   ]
  },
  {
   "cell_type": "code",
   "execution_count": 11,
   "id": "77ad75d1",
   "metadata": {},
   "outputs": [],
   "source": [
    "dict_sample = {}"
   ]
  },
  {
   "cell_type": "code",
   "execution_count": 12,
   "id": "37f6ccdb",
   "metadata": {},
   "outputs": [],
   "source": [
    "dict_sample = {1: 'mango', 2: 'pawpaw'}"
   ]
  },
  {
   "cell_type": "code",
   "execution_count": 13,
   "id": "2edc1d2c",
   "metadata": {},
   "outputs": [],
   "source": [
    "dict_sample = {'fruit': 'mango', 1: [4, 6, 8]}"
   ]
  },
  {
   "cell_type": "code",
   "execution_count": 26,
   "id": "fb21fc51",
   "metadata": {},
   "outputs": [
    {
     "data": {
      "text/plain": [
       "dict"
      ]
     },
     "execution_count": 26,
     "metadata": {},
     "output_type": "execute_result"
    }
   ],
   "source": [
    "dict_sample =dict({1:'mango', 2:'pawpaw'})\n",
    "type(dict_sample)"
   ]
  },
  {
   "cell_type": "code",
   "execution_count": 15,
   "id": "59914e8d",
   "metadata": {},
   "outputs": [],
   "source": [
    "dict_sample = dict([(1,'mango'), (2,'pawpaw')])"
   ]
  },
  {
   "cell_type": "code",
   "execution_count": 17,
   "id": "e33e970c",
   "metadata": {},
   "outputs": [
    {
     "data": {
      "text/plain": [
       "{1: 'mango', 2: 'pawpaw'}"
      ]
     },
     "execution_count": 17,
     "metadata": {},
     "output_type": "execute_result"
    }
   ],
   "source": [
    "dict_sample"
   ]
  },
  {
   "cell_type": "code",
   "execution_count": 18,
   "id": "702cbe93",
   "metadata": {},
   "outputs": [
    {
     "data": {
      "text/plain": [
       "{1: 'mango', 2: 'pawpaw'}"
      ]
     },
     "execution_count": 18,
     "metadata": {},
     "output_type": "execute_result"
    }
   ],
   "source": [
    "{1:'mango', 2:'pawpaw'}"
   ]
  },
  {
   "cell_type": "code",
   "execution_count": 27,
   "id": "6931a14f",
   "metadata": {},
   "outputs": [],
   "source": [
    "dict_sample = {1: {'student1' : 'Nicholas', 'student2' : 'John', 'student3' : 'Mercy'},\n",
    "        2: {'course1' : 'Computer Science', 'course2' : 'Mathematics', 'course3' : 'Accounting'}}"
   ]
  },
  {
   "cell_type": "code",
   "execution_count": 30,
   "id": "0889ddc9",
   "metadata": {},
   "outputs": [
    {
     "data": {
      "text/plain": [
       "{'course1': 'Computer Science',\n",
       " 'course2': 'Mathematics',\n",
       " 'course3': 'Accounting'}"
      ]
     },
     "execution_count": 30,
     "metadata": {},
     "output_type": "execute_result"
    }
   ],
   "source": [
    "dict_sample[2]"
   ]
  },
  {
   "cell_type": "code",
   "execution_count": 31,
   "id": "9f993e08",
   "metadata": {},
   "outputs": [
    {
     "name": "stdout",
     "output_type": "stream",
     "text": [
      "{'Company': 'Toyota', 'model': 'Premio', 'year': 2012}\n"
     ]
    }
   ],
   "source": [
    "dict_sample = {\n",
    "  \"Company\": \"Toyota\",\n",
    "  \"model\": \"Premio\",\n",
    "  \"year\": 2012\n",
    "}\n",
    "print(dict_sample)"
   ]
  },
  {
   "cell_type": "code",
   "execution_count": 40,
   "id": "661dadfe",
   "metadata": {},
   "outputs": [
    {
     "name": "stdout",
     "output_type": "stream",
     "text": [
      "{'emp1': {'e_name': 'John', 'e_id': 'SG101', 'e_sal': '$10,000'}, 'emp2': {'e_name': 'Smith', 'e_id': 'SG102', 'e_sal': '$9,000'}, 'emp3': {'e_name': 'Peter', 'e_id': 'SG103', 'e_sal': '$9,500'}}\n",
      "\n",
      "\n",
      "{'emp1': {'e_name': 'John', 'e_id': 'SG101', 'e_sal': '$10,000'}, 'emp2': {'e_name': 'Smith', 'e_id': 'SG102', 'e_sal': '$9,000'}}\n"
     ]
    }
   ],
   "source": [
    "# Create a dictionary out of below inputs\n",
    "# lst1 = ['emp1', 'emp2', 'emp3']\n",
    "# emp_key = ['e_name', 'e_id', 'e_sal']\n",
    "# emp1_val = ['John', 'SG101', '$10,000']\n",
    "# emp2_val = ['Smith', 'SG102', '$9,000']\n",
    "# emp3_val = ['Peter', 'SG103', '$9,500']\n",
    "\n",
    "# Expected Output:- {'emp1':{'e_name':'John', 'e_id':'SG101', 'e_sal':$10,000}, \n",
    "#                    'emp2':{'e_name':'Smith', 'e_id':'SG102', 'e_sal':$9,000}, \n",
    "#                    'emp3':{'e_name':'Peter', 'e_id':'SG103', 'e_sal':$9,500}}\n",
    "\n",
    "lst1 = ['emp1', 'emp2', 'emp3']\n",
    "emp_key = ['e_name', 'e_id', 'e_sal']\n",
    "emp1_val = ['John', 'SG101', '$10,000']\n",
    "emp2_val = ['Smith', 'SG102', '$9,000']\n",
    "emp3_val = ['Peter', 'SG103', '$9,500']\n",
    "\n",
    "output = {\n",
    "         lst1[0] : {emp_key[0]:emp1_val[0],emp_key[1]:emp1_val[1], emp_key[2]:emp1_val[2]},\n",
    "         lst1[1] : {emp_key[0]:emp2_val[0],emp_key[1]:emp2_val[1], emp_key[2]:emp2_val[2]},\n",
    "         lst1[2] : {emp_key[0]:emp3_val[0],emp_key[1]:emp3_val[1], emp_key[2]:emp3_val[2]}\n",
    "         }\n",
    "print(output)\n",
    "\n",
    "print('\\n')\n",
    "\n",
    "output = {}\n",
    "for i in range(2):\n",
    "    output[lst1[i]]= {emp_key[0]:eval(f\"emp{i+1}_val[0]\"),emp_key[1]:eval(f\"emp{i+1}_val[1]\"), emp_key[2]:eval(f\"emp{i+1}_val[2]\")}\n",
    "\n",
    "print(output)\n"
   ]
  },
  {
   "cell_type": "code",
   "execution_count": 48,
   "id": "4ce90883",
   "metadata": {},
   "outputs": [
    {
     "data": {
      "text/plain": [
       "80"
      ]
     },
     "execution_count": 48,
     "metadata": {},
     "output_type": "execute_result"
    }
   ],
   "source": [
    "# Acess the value of key 'history'\n",
    "sampleDict = { \n",
    "   \"class\":{ \n",
    "      \"student\":{ \n",
    "         \"name\":\"Mike\",\n",
    "         \"marks\":{ \n",
    "            \"physics\":70,\n",
    "            \"history\":80\n",
    "         }\n",
    "      }\n",
    "   }\n",
    "}\n",
    "\n",
    "sampleDict[\"class\"][\"student\"][\"marks\"][\"history\"]"
   ]
  },
  {
   "cell_type": "code",
   "execution_count": 53,
   "id": "534d3582",
   "metadata": {},
   "outputs": [
    {
     "name": "stdout",
     "output_type": "stream",
     "text": [
      "{'Kelly': {'designation': 'Application Developer', 'salary': 8000}, 'Emma': {'designation': 'Application Developer', 'salary': 8000}, 'John': {'designation': 'Application Developer', 'salary': 8000}}\n"
     ]
    }
   ],
   "source": [
    "# Initialize dictionary with default values. Inputs are:-\n",
    "# employees = ['Kelly', 'Emma', 'John']\n",
    "# defaults = {\"designation\": 'Application Developer', \"salary\": 8000}\n",
    "\n",
    "#Expected output:- {'Kelly': {'designation': 'Application Developer', 'salary': 8000}, \n",
    "#                   'Emma': {'designation': 'Application Developer', 'salary': 8000}, \n",
    "#                   'John': {'designation': 'Application Developer', 'salary': 8000}}\n",
    "\n",
    "employees = ['Kelly', 'Emma', 'John']\n",
    "defaults = {\"designation\": 'Application Developer', \"salary\": 8000}\n",
    "output = {}\n",
    "for i in range(3):\n",
    "    output[employees[i]]= defaults\n",
    "print(output)"
   ]
  },
  {
   "cell_type": "code",
   "execution_count": 78,
   "id": "75e9b492",
   "metadata": {},
   "outputs": [],
   "source": [
    "# In gene expression, mRNA is transcribed from a DNA template. \n",
    "# The 4 nucleotide bases of A, T, C, G corresponds to the U, A, G, C bases of the mRNA. \n",
    "# Write a function that returns the mRNA transcript given the sequence of a DNA strand.\n",
    "# Use a dictionary to provide the mapping of DNA to RNA bases.\n",
    "\n",
    "def mRNAtranscription(dna_template):\n",
    "    dna2rna = {'A':'U', 'T':'A', 'C':'G', 'G':'C'}\n",
    "    print(dna2rna.get('A'))\n",
    "    mRNA = ''\n",
    "    for base in dna_template:    \n",
    "        mRNA+=(dna2rna.get(base))  \n",
    "    return mRNA\n"
   ]
  },
  {
   "cell_type": "code",
   "execution_count": 79,
   "id": "8a6bd9c0",
   "metadata": {},
   "outputs": [
    {
     "name": "stdout",
     "output_type": "stream",
     "text": [
      "UAGCAUCGU\n"
     ]
    }
   ],
   "source": [
    "dna2rna = {'A':'U', 'T':'A', 'C':'G', 'G':'C'}\n",
    "mRNA = ''\n",
    "for base in 'ATCGTAGCA':\n",
    "    mRNA+=(dna2rna.get(base))\n",
    "print(mRNA)\n"
   ]
  },
  {
   "cell_type": "code",
   "execution_count": 80,
   "id": "0e628295",
   "metadata": {},
   "outputs": [
    {
     "name": "stdout",
     "output_type": "stream",
     "text": [
      "U\n"
     ]
    },
    {
     "data": {
      "text/plain": [
       "'UAGCAUCGU'"
      ]
     },
     "execution_count": 80,
     "metadata": {},
     "output_type": "execute_result"
    }
   ],
   "source": [
    "mRNAtranscription('ATCGTAGCA')"
   ]
  },
  {
   "cell_type": "code",
   "execution_count": 96,
   "id": "3f6d6796",
   "metadata": {},
   "outputs": [],
   "source": [
    "# Write a function which takes a word as input and returns a dictionary with letters as key and no of time letters are repeated as value.\n",
    "# In - count_letter('google.com')\n",
    "# Out - {'g': 2, 'o': 3, 'l': 1, 'e': 1, '.': 1, 'c': 1, 'm': 1}\n",
    "\n",
    "def count_letter(text):\n",
    "    list = [(t,text.count(t)) for t in text]\n",
    "    print(dict(set(list)))"
   ]
  },
  {
   "cell_type": "code",
   "execution_count": 94,
   "id": "9356630d",
   "metadata": {},
   "outputs": [
    {
     "data": {
      "text/plain": [
       "2"
      ]
     },
     "execution_count": 94,
     "metadata": {},
     "output_type": "execute_result"
    }
   ],
   "source": [
    "'google.com'.count('g')"
   ]
  },
  {
   "cell_type": "code",
   "execution_count": 97,
   "id": "9924696f",
   "metadata": {},
   "outputs": [
    {
     "name": "stdout",
     "output_type": "stream",
     "text": [
      "{'.': 1, 'm': 1, 'c': 1, 'e': 1, 'l': 1, 'g': 2, 'o': 3}\n"
     ]
    }
   ],
   "source": [
    "text = 'google.com'\n",
    "list = [(t,text.count(t)) for t in text]\n",
    "print(dict(set(list)))"
   ]
  },
  {
   "cell_type": "code",
   "execution_count": 102,
   "id": "afe3b9df",
   "metadata": {},
   "outputs": [],
   "source": [
    "# A DNA strand consisting of the 4 nucleotide bases is usually represented with a string of letters: A,T, C, G. \n",
    "# Write a function that computes the base composition of a given DNA sequence.\n",
    "\n",
    "# In - baseComposition(\"CTATCGGCACCCTTTCAGCA\")\n",
    "# Out - {'A': 4, 'C': 8, 'T': 5,  'G': 3 }\n",
    "    \n",
    "# In - baseComposition(\"AGT\")\n",
    "# Out - {'A': 1, 'C': 0, 'T': 1,  'G': 1 }\n",
    "\n",
    "def baseComposition(DNASeq):\n",
    "    list = [(t,DNASeq.count(t)) for t in DNASeq]\n",
    "    print(dict(set(list)))\n",
    "    "
   ]
  },
  {
   "cell_type": "code",
   "execution_count": 103,
   "id": "c7b4c62a",
   "metadata": {},
   "outputs": [
    {
     "name": "stdout",
     "output_type": "stream",
     "text": [
      "{'C': 8, 'T': 5, 'G': 3, 'A': 4}\n"
     ]
    }
   ],
   "source": [
    "baseComposition(\"CTATCGGCACCCTTTCAGCA\")"
   ]
  },
  {
   "cell_type": "code",
   "execution_count": null,
   "id": "17a0ee0b",
   "metadata": {},
   "outputs": [],
   "source": [
    "# [MCQ] Suppose \"d\" is an empty dictionary, which statement does not assign \"d\" with {\"Name\":\"Tom\"}? \n",
    "# 1. d = {\"Name\": \"Tom\" }\n",
    "# 2. d[\"Name\"] = \"Tom\"\n",
    "# 3. d.update({\"Name\": \"Tom\" })\n",
    "# 4. d.setdefault(\"Name\", \"Tom\")\n",
    "# 5. None of the above.\n"
   ]
  }
 ],
 "metadata": {
  "kernelspec": {
   "display_name": "Python 3",
   "language": "python",
   "name": "python3"
  },
  "language_info": {
   "codemirror_mode": {
    "name": "ipython",
    "version": 3
   },
   "file_extension": ".py",
   "mimetype": "text/x-python",
   "name": "python",
   "nbconvert_exporter": "python",
   "pygments_lexer": "ipython3",
   "version": "3.8.8"
  }
 },
 "nbformat": 4,
 "nbformat_minor": 5
}
